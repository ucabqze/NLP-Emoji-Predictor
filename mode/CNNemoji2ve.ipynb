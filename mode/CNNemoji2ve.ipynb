{
  "nbformat": 4,
  "nbformat_minor": 0,
  "metadata": {
    "colab": {
      "name": "CNNemoji2ve.ipynb",
      "version": "0.3.2",
      "provenance": [],
      "collapsed_sections": []
    },
    "kernelspec": {
      "name": "python3",
      "display_name": "Python 3"
    },
    "accelerator": "GPU"
  },
  "cells": [
    {
      "metadata": {
        "id": "kWuy1YlMIQrj",
        "colab_type": "code",
        "colab": {}
      },
      "cell_type": "code",
      "source": [
        "import re\n",
        "import gensim\n",
        "import torch.nn as nn\n",
        "import torch\n",
        "import numpy as np\n",
        "import torch.nn.functional as F\n",
        "from torch.autograd import Variable\n",
        "from torch.utils.data import DataLoader,Dataset\n",
        "from sklearn.metrics import f1_score\n",
        "from sklearn.metrics import recall_score\n",
        "from sklearn.metrics import precision_score\n",
        "import seaborn as sns\n"
      ],
      "execution_count": 0,
      "outputs": []
    },
    {
      "metadata": {
        "id": "TFSRT1UlIV7V",
        "colab_type": "code",
        "outputId": "5ae92e65-9052-48a7-db93-4c24228f4efd",
        "colab": {
          "base_uri": "https://localhost:8080/",
          "height": 34
        }
      },
      "cell_type": "code",
      "source": [
        "!pip install -U -q PyDrive\n",
        "import os  \n",
        "os.chdir('/content/')  \n",
        "!git clone https://github.com/ruelj2/Google_drive.git  \n",
        "\n",
        "from Google_drive.handle import Google_drive  \n",
        "Gd = Google_drive()  "
      ],
      "execution_count": 2,
      "outputs": [
        {
          "output_type": "stream",
          "text": [
            "fatal: destination path 'Google_drive' already exists and is not an empty directory.\n"
          ],
          "name": "stdout"
        }
      ]
    },
    {
      "metadata": {
        "id": "YSfOpeywIZRb",
        "colab_type": "code",
        "colab": {}
      },
      "cell_type": "code",
      "source": [
        "!pip install -U -q PyDrive ## you will have install for every colab session\n",
        "from pydrive.auth import GoogleAuth     \n",
        "from pydrive.drive import GoogleDrive\n",
        "from google.colab import auth\n",
        "from oauth2client.client import GoogleCredentials\n",
        "# 1. Authenticate and create the PyDrive client.\n",
        "auth.authenticate_user()\n",
        "gauth = GoogleAuth()\n",
        "gauth.credentials = GoogleCredentials.get_application_default()\n",
        "drive = GoogleDrive(gauth)\n",
        "Gd = Google_drive()  "
      ],
      "execution_count": 0,
      "outputs": []
    },
    {
      "metadata": {
        "id": "JNPRZpZUIbk5",
        "colab_type": "code",
        "colab": {}
      },
      "cell_type": "code",
      "source": [
        "json_import = drive.CreateFile({'id':'1Y0LdeAzisVk-2BVnoqY9eR61Ax3R6rKD'})\n",
        "json_import.GetContentFile('GoogleNews-vectors-negative300.bin')"
      ],
      "execution_count": 0,
      "outputs": []
    },
    {
      "metadata": {
        "id": "M5kF2_G5Ii81",
        "colab_type": "code",
        "colab": {}
      },
      "cell_type": "code",
      "source": [
        "json_import1 = drive.CreateFile({'id':'1RQfHsaaFnEEz664YLKMxkTysRo8mAevS'})\n",
        "json_import1.GetContentFile('emoji2vec.bin')"
      ],
      "execution_count": 0,
      "outputs": []
    },
    {
      "metadata": {
        "id": "m5KhSnsZIlCt",
        "colab_type": "code",
        "colab": {}
      },
      "cell_type": "code",
      "source": [
        "json_import1 = drive.CreateFile({'id':'1DXnuatRulmjPV0T3lQPu8oyDw_2f34pK'})\n",
        "json_import1.GetContentFile('new_file.txt')"
      ],
      "execution_count": 0,
      "outputs": []
    },
    {
      "metadata": {
        "id": "O18ScUSsImyo",
        "colab_type": "code",
        "outputId": "0651b8e4-85cd-4e04-bf4e-8c2fa340d15f",
        "colab": {
          "base_uri": "https://localhost:8080/",
          "height": 34
        }
      },
      "cell_type": "code",
      "source": [
        "file_ID='1Y0LdeAzisVk-2BVnoqY9eR61Ax3R6rKD'\n",
        "local_dir='/content'\n",
        "Gd.load_file(local_dir, file_ID)"
      ],
      "execution_count": 7,
      "outputs": [
        {
          "output_type": "stream",
          "text": [
            "GoogleNews-vectors-negative300.bin loaded\n"
          ],
          "name": "stdout"
        }
      ]
    },
    {
      "metadata": {
        "id": "x9YCvUjwIoSS",
        "colab_type": "code",
        "outputId": "9b89b486-6e69-4ab4-d3bf-e2a59c9e4d80",
        "colab": {
          "base_uri": "https://localhost:8080/",
          "height": 34
        }
      },
      "cell_type": "code",
      "source": [
        "file_ID='1RQfHsaaFnEEz664YLKMxkTysRo8mAevS'\n",
        "local_dir='/content'\n",
        "Gd.load_file(local_dir,file_ID)"
      ],
      "execution_count": 8,
      "outputs": [
        {
          "output_type": "stream",
          "text": [
            "emoji2vec.bin loaded\n"
          ],
          "name": "stdout"
        }
      ]
    },
    {
      "metadata": {
        "id": "X8SkMANlIp9b",
        "colab_type": "code",
        "outputId": "89f0b75f-d84b-4434-9a39-40053ea3d551",
        "colab": {
          "base_uri": "https://localhost:8080/",
          "height": 34
        }
      },
      "cell_type": "code",
      "source": [
        "file_ID='1DXnuatRulmjPV0T3lQPu8oyDw_2f34pK'\n",
        "Gd.load_file(local_dir,file_ID)"
      ],
      "execution_count": 9,
      "outputs": [
        {
          "output_type": "stream",
          "text": [
            "new_file.txt loaded\n"
          ],
          "name": "stdout"
        }
      ]
    },
    {
      "metadata": {
        "id": "RY1yZdZNIr7T",
        "colab_type": "code",
        "colab": {}
      },
      "cell_type": "code",
      "source": [
        "def read_file(file_name):\n",
        "\tdata_list=[]\n",
        "\twith open(file_name,\"r\") as f:\n",
        "\t\tfor line in f:\n",
        "\t\t\tline=line.strip()\n",
        "\t\t\tlabel=' '.join((line[line.find(\"[\")+1:line.find(\"]\")]).replace(',','').split())\n",
        "\t\t\ttext=line[line.find(\"'\")+1:line.find(\"')\")].strip()\n",
        "\t\t\tdata_list.append([label,text])\n",
        "\treturn data_list"
      ],
      "execution_count": 0,
      "outputs": []
    },
    {
      "metadata": {
        "id": "QIsAhv_9IteH",
        "colab_type": "code",
        "colab": {}
      },
      "cell_type": "code",
      "source": [
        "file_name=\"new_file.txt\"\n",
        "psychExp_txt=read_file(file_name)"
      ],
      "execution_count": 0,
      "outputs": []
    },
    {
      "metadata": {
        "id": "l5j8vNCtIu6a",
        "colab_type": "code",
        "colab": {}
      },
      "cell_type": "code",
      "source": [
        "w2v=gensim.models.KeyedVectors.load_word2vec_format('GoogleNews-vectors-negative300.bin',binary=True)\n",
        "e2v=gensim.models.KeyedVectors.load_word2vec_format('emoji2vec.bin',binary=True)"
      ],
      "execution_count": 0,
      "outputs": []
    },
    {
      "metadata": {
        "id": "xegXC1j8IzWg",
        "colab_type": "code",
        "colab": {}
      },
      "cell_type": "code",
      "source": [
        "##consider n-gram features\n",
        "def ngram(token,n):\n",
        "  output=[]\n",
        "  for i in range(n-1,len(token)):\n",
        "    ngram=' '.join(token[i-n+1:i+1])\n",
        "    output.append(ngram)\n",
        "  return output  "
      ],
      "execution_count": 0,
      "outputs": []
    },
    {
      "metadata": {
        "id": "MS4PUCpvI2Ay",
        "colab_type": "code",
        "colab": {}
      },
      "cell_type": "code",
      "source": [
        "def create_feature(text,nrange=(1,1)):\n",
        "  text_features=[]\n",
        "  text=text.lower()\n",
        "  text_alphanum=re.sub('[^a-z0-9#]',' ',text)\n",
        "  for n in range(nrange[0],nrange[1]+1):\n",
        "    text_features += ngram(text_alphanum.split(),n)\n",
        "  return(text_features)  "
      ],
      "execution_count": 0,
      "outputs": []
    },
    {
      "metadata": {
        "id": "3gQ_W8EsI5hr",
        "colab_type": "code",
        "colab": {}
      },
      "cell_type": "code",
      "source": [
        "def convert_label(item, name): \n",
        "    items = list(map(float, item.split()))\n",
        "    label = \"\"\n",
        "    for idx in range(len(items)): \n",
        "        if items[idx] == 1: \n",
        "            label += name[idx] + \" \"\n",
        "    \n",
        "    return label.strip()"
      ],
      "execution_count": 0,
      "outputs": []
    },
    {
      "metadata": {
        "id": "JnODsaIjI8_V",
        "colab_type": "code",
        "colab": {}
      },
      "cell_type": "code",
      "source": [
        "emotions = [\"😊\", '😱', \"😠\", \"😢\", \"😒\", \"😳\", \"😣\"]\n",
        "\n",
        "X_all = []\n",
        "Y_all = []\n",
        "for label, text in psychExp_txt:\n",
        "    Y_all.append(torch.LongTensor(list(map(float,label.split()))))\n",
        "    X_all.append(text)"
      ],
      "execution_count": 0,
      "outputs": []
    },
    {
      "metadata": {
        "id": "x7Q1zSjiI_EB",
        "colab_type": "code",
        "colab": {}
      },
      "cell_type": "code",
      "source": [
        "from sklearn.model_selection import train_test_split\n",
        "X_train,X_test,Y_train,Y_test=train_test_split(X_all,Y_all,test_size=0.2,random_state=123)"
      ],
      "execution_count": 0,
      "outputs": []
    },
    {
      "metadata": {
        "id": "SiGJm0wEJA4H",
        "colab_type": "code",
        "colab": {}
      },
      "cell_type": "code",
      "source": [
        "label_train=[]\n",
        "label_test=[]\n",
        "for i in Y_train:\n",
        "  label_train.append(torch.nonzero(i).squeeze())\n",
        "for i in Y_test:\n",
        "  label_test.append(torch.nonzero(i).squeeze())\n",
        "label_test=label_test"
      ],
      "execution_count": 0,
      "outputs": []
    },
    {
      "metadata": {
        "id": "NrM63eTwJFho",
        "colab_type": "code",
        "colab": {}
      },
      "cell_type": "code",
      "source": [
        "# build vocabulary \n",
        "from sklearn.feature_extraction.text import CountVectorizer\n",
        "vectorizer = CountVectorizer()\n",
        "X = vectorizer.fit_transform(X_train)\n",
        "vocab=vectorizer.get_feature_names()"
      ],
      "execution_count": 0,
      "outputs": []
    },
    {
      "metadata": {
        "id": "Irbbz9oUJHak",
        "colab_type": "code",
        "colab": {}
      },
      "cell_type": "code",
      "source": [
        "sentence_train=[]\n",
        "for i in X_train:\n",
        "  b=[]\n",
        "  i=create_feature(i)\n",
        "  for j in i:\n",
        "    try:\n",
        "      b.append(vocab.index(j))\n",
        "    except ValueError:\n",
        "      vocab.append(j)\n",
        "      b.append(len(vocab)-1)\n",
        "  sentence_train.append(torch.LongTensor(b))"
      ],
      "execution_count": 0,
      "outputs": []
    },
    {
      "metadata": {
        "id": "byF1zf6xJI_h",
        "colab_type": "code",
        "colab": {}
      },
      "cell_type": "code",
      "source": [
        "sentence_test=[]\n",
        "for i in X_test:\n",
        "  b=[]\n",
        "  i=create_feature(i)\n",
        "  for j in i:\n",
        "    try:\n",
        "      b.append(vocab.index(j))\n",
        "    except ValueError:\n",
        "      b\n",
        "  sentence_test.append(torch.LongTensor(b))"
      ],
      "execution_count": 0,
      "outputs": []
    },
    {
      "metadata": {
        "id": "ZWVGiG5YJK7T",
        "colab_type": "code",
        "colab": {}
      },
      "cell_type": "code",
      "source": [
        "weights=np.zeros((len(vocab),300))\n",
        "for i,word in enumerate(vocab):\n",
        "  try:\n",
        "    weights[i]=w2v[word]\n",
        "  except KeyError:\n",
        "    weights[i] = np.random.normal(scale=0.6, size=(300, ))\n",
        "weights=torch.FloatTensor(weights)     "
      ],
      "execution_count": 0,
      "outputs": []
    },
    {
      "metadata": {
        "id": "GQSyB8QSJM3M",
        "colab_type": "code",
        "colab": {}
      },
      "cell_type": "code",
      "source": [
        "weights_emoji=np.zeros((len(emotions),300))\n",
        "for i,emoji in enumerate(emotions):\n",
        "  if emoji in e2v:\n",
        "    weights_emoji[i]=e2v[emoji]\n",
        "weights_emoji=torch.FloatTensor(weights_emoji)   "
      ],
      "execution_count": 0,
      "outputs": []
    },
    {
      "metadata": {
        "id": "G9yoqcBuJOfW",
        "colab_type": "code",
        "colab": {}
      },
      "cell_type": "code",
      "source": [
        "class CNNClassifier(nn.Module):\n",
        "  def __init__(self,weight_matrix_of_word,weight_matrix_of_emoji,num_embeddings, embedding_dim, hidden_dim,target_size,kernel_size):\n",
        "      super(CNNClassifier, self).__init__()\n",
        "      self.kernel_size=kernel_size\n",
        "      self.embedding_word=nn.Embedding.from_pretrained(weight_matrix_of_word)\n",
        "      self.embedding_emoji=nn.Embedding.from_pretrained(weight_matrix_of_emoji,freeze=False)\n",
        "      self.conv1=nn.Conv1d(embedding_dim,hidden_dim,kernel_size)\n",
        "      self.conv2=nn.Conv1d(embedding_dim,hidden_dim,1)\n",
        "      self.output=nn.Linear(hidden_dim,target_size)\n",
        "      self.cos=nn.CosineSimilarity(dim=0)\n",
        "    \n",
        "#     super(CNNClassifier, self).__int__()\n",
        "#     self.num_embeddings =num_embeddings\n",
        "#     self.embedding_dim = embedding_dim\n",
        "#     self.target_size = target_size  \n",
        "#     self.embedding_word=nn.Embedding(num_embeddings,embedding_dim)\n",
        "#     self.convs = nn.ModuleList([nn.Conv2d(channel,knum,(K,embedding_dim)) for K in kernel_size]) \n",
        "#     self.linear=nn.Linear(len(kernel_size)*knum,target_size)\n",
        "\n",
        "  def forward(self,sentence):\n",
        "    x=self.embedding_word(sentence).view(1,len(sentence),-1).transpose(1,2)\n",
        "    emoji=self.embedding_emoji.weight\n",
        "    if(len(sentence)>=self.kernel_size):\n",
        "      c=self.conv1(x)\n",
        "      pool1=nn.MaxPool1d(len(sentence)-self.kernel_size+1)\n",
        "    else:\n",
        "      c=self.conv2(x)\n",
        "      pool1=nn.MaxPool1d(len(sentence))\n",
        "    c=F.relu(c)  \n",
        "    p=pool1(c).view(1,-1)\n",
        "    out=self.output(p)\n",
        "    a=torch.zeros(1,len(emoji))\n",
        "    for i,j in enumerate(emoji):\n",
        "      for p,q in enumerate(out):\n",
        "        a[p][i]=self.cos(q,j)\n",
        "    return a"
      ],
      "execution_count": 0,
      "outputs": []
    },
    {
      "metadata": {
        "id": "WHMnAIw6JT4W",
        "colab_type": "code",
        "colab": {}
      },
      "cell_type": "code",
      "source": [
        "def accuracy(test_text,test_label,Model,batch_size=1):\n",
        "  total=len(test_label)\n",
        "  correct=0\n",
        "  for sentence,labels in zip(test_text,test_label):\n",
        "    output=torch.argmax(Model(sentence))\n",
        "    correct += (output==labels).sum()\n",
        "  return float(correct)/total  "
      ],
      "execution_count": 0,
      "outputs": []
    },
    {
      "metadata": {
        "id": "rTNGge-HJYq-",
        "colab_type": "code",
        "colab": {}
      },
      "cell_type": "code",
      "source": [
        "def metrics(test_text,test_label,Model,batch_size=1):\n",
        "  a=np.array(test_label)\n",
        "  b=np.zeros(len(test_label))\n",
        "  for i,sentence in enumerate(test_text):\n",
        "    predict=torch.argmax(Model(sentence))\n",
        "    b[i]=predict\n",
        "  F1=f1_score(a,b,average=None)\n",
        "  F1_total = f1_score(a,b,average='macro')\n",
        "  rscore=recall_score(a,b,average=None)\n",
        "  rscore_total=recall_score(a,b,average='macro')\n",
        "  pscore=precision_score(a,b,average=None)\n",
        "  pscore_total=precision_score(a,b,average='macro')\n",
        "  print(\"F1:\"+str(F1))\n",
        "  print(\"recall_score:\"+str(rscore))\n",
        "  print(\"precision_score:\"+str(pscore))\n",
        "  print(\"F1_toal:\"+str(F1_total))\n",
        "  print(\"rscore_total:\"+str(rscore_total))\n",
        "  print(\"pscore_total:\"+str(pscore_total))"
      ],
      "execution_count": 0,
      "outputs": []
    },
    {
      "metadata": {
        "id": "jZ6CihsHJaYC",
        "colab_type": "code",
        "outputId": "c9ad90d9-2dd7-4f0b-84a7-a91c56324382",
        "colab": {
          "base_uri": "https://localhost:8080/",
          "height": 1224
        }
      },
      "cell_type": "code",
      "source": [
        "### Train the CNN model\n",
        "model=CNNClassifier(weights,weights_emoji,len(vocab),300,200,300,2)\n",
        "loss_function=nn.CrossEntropyLoss()\n",
        "optimizer=torch.optim.SGD(model.parameters(),lr=0.01,weight_decay=0)\n",
        "epoch_accuracies = []\n",
        "best_accuracy=0\n",
        "for epoch in range(1000):\n",
        "  i=0\n",
        "  for sentence,labels in zip(sentence_train,label_train):\n",
        "    i=i+1\n",
        "    optimizer.zero_grad()\n",
        "    outputs=model(sentence)\n",
        "    labels=labels.unsqueeze(dim=0)\n",
        "    loss=loss_function(outputs,labels)\n",
        "    loss.backward()\n",
        "    optimizer.step()\n",
        "    if (i+1)%1000==0:\n",
        "              print ('Epoch: [%d/%d], Step: [%d/%d] , Loss: %.4f, Dev: %.4f' \n",
        "                     % (epoch+1, 1000, i+1, len(sentence_train), \n",
        "                        loss.data, accuracy(sentence_train,label_train,model)))\n",
        "  epoch_accuracies.append(accuracy(sentence_test,label_test,model))\n",
        "  if epoch_accuracies[-1] > best_accuracy:\n",
        "    best_accuracy = epoch_accuracies[-1]\n",
        "    best_epoch = epoch\n",
        "  if(epoch>=10 and epoch_accuracies[-1]<=epoch_accuracies[-10]):\n",
        "    break                %%!%%!%%!\n",
        "  # TODO: implement early stopping here      \n",
        "  print(best_accuracy, best_epoch)"
      ],
      "execution_count": 126,
      "outputs": [
        {
          "output_type": "stream",
          "text": [
            "Epoch: [1/1000], Step: [1000/187] , Loss: 2.2984, Dev: 0.1791\n",
            "Epoch: [1/1000], Step: [2000/187] , Loss: 1.9626, Dev: 0.1942\n",
            "Epoch: [1/1000], Step: [3000/187] , Loss: 1.8747, Dev: 0.2176\n",
            "Epoch: [1/1000], Step: [4000/187] , Loss: 1.9259, Dev: 0.2258\n",
            "Epoch: [1/1000], Step: [5000/187] , Loss: 2.1052, Dev: 0.2433\n",
            "0.28475935828877 0\n",
            "Epoch: [2/1000], Step: [1000/187] , Loss: 1.8740, Dev: 0.4794\n",
            "Epoch: [2/1000], Step: [2000/187] , Loss: 1.1178, Dev: 0.4871\n",
            "Epoch: [2/1000], Step: [3000/187] , Loss: 1.4781, Dev: 0.5565\n",
            "Epoch: [2/1000], Step: [4000/187] , Loss: 1.9629, Dev: 0.5809\n",
            "Epoch: [2/1000], Step: [5000/187] , Loss: 1.2014, Dev: 0.6034\n",
            "0.5340909090909091 1\n",
            "Epoch: [3/1000], Step: [1000/187] , Loss: 1.7711, Dev: 0.6240\n",
            "Epoch: [3/1000], Step: [2000/187] , Loss: 1.0951, Dev: 0.6282\n",
            "Epoch: [3/1000], Step: [3000/187] , Loss: 1.2792, Dev: 0.6583\n",
            "Epoch: [3/1000], Step: [4000/187] , Loss: 1.9308, Dev: 0.6705\n",
            "Epoch: [3/1000], Step: [5000/187] , Loss: 1.1346, Dev: 0.6952\n",
            "0.554144385026738 2\n",
            "Epoch: [4/1000], Step: [1000/187] , Loss: 1.7119, Dev: 0.6863\n",
            "Epoch: [4/1000], Step: [2000/187] , Loss: 1.0867, Dev: 0.6995\n",
            "Epoch: [4/1000], Step: [3000/187] , Loss: 1.2309, Dev: 0.7311\n",
            "Epoch: [4/1000], Step: [4000/187] , Loss: 1.8552, Dev: 0.7328\n",
            "Epoch: [4/1000], Step: [5000/187] , Loss: 1.1039, Dev: 0.7525\n",
            "0.5608288770053476 3\n",
            "Epoch: [5/1000], Step: [1000/187] , Loss: 1.7370, Dev: 0.7376\n",
            "Epoch: [5/1000], Step: [2000/187] , Loss: 1.0884, Dev: 0.7503\n",
            "Epoch: [5/1000], Step: [3000/187] , Loss: 1.2180, Dev: 0.7831\n",
            "Epoch: [5/1000], Step: [4000/187] , Loss: 1.8097, Dev: 0.7838\n",
            "Epoch: [5/1000], Step: [5000/187] , Loss: 1.1000, Dev: 0.8038\n",
            "0.5608288770053476 3\n",
            "Epoch: [6/1000], Step: [1000/187] , Loss: 1.5986, Dev: 0.7811\n",
            "Epoch: [6/1000], Step: [2000/187] , Loss: 1.0938, Dev: 0.7898\n",
            "Epoch: [6/1000], Step: [3000/187] , Loss: 1.1949, Dev: 0.8130\n",
            "Epoch: [6/1000], Step: [4000/187] , Loss: 1.7027, Dev: 0.8366\n",
            "Epoch: [6/1000], Step: [5000/187] , Loss: 1.1044, Dev: 0.8427\n",
            "0.5608288770053476 3\n",
            "Epoch: [7/1000], Step: [1000/187] , Loss: 1.4642, Dev: 0.8172\n",
            "Epoch: [7/1000], Step: [2000/187] , Loss: 1.0967, Dev: 0.8334\n",
            "Epoch: [7/1000], Step: [3000/187] , Loss: 1.1841, Dev: 0.8412\n",
            "Epoch: [7/1000], Step: [4000/187] , Loss: 1.6478, Dev: 0.8655\n",
            "Epoch: [7/1000], Step: [5000/187] , Loss: 1.0986, Dev: 0.8723\n",
            "0.5608288770053476 3\n",
            "Epoch: [8/1000], Step: [1000/187] , Loss: 1.3889, Dev: 0.8656\n",
            "Epoch: [8/1000], Step: [2000/187] , Loss: 1.0982, Dev: 0.8600\n",
            "Epoch: [8/1000], Step: [3000/187] , Loss: 1.1897, Dev: 0.8880\n",
            "Epoch: [8/1000], Step: [4000/187] , Loss: 1.5791, Dev: 0.8949\n",
            "Epoch: [8/1000], Step: [5000/187] , Loss: 1.0992, Dev: 0.8987\n",
            "0.5608288770053476 3\n",
            "Epoch: [9/1000], Step: [1000/187] , Loss: 1.4083, Dev: 0.8922\n",
            "Epoch: [9/1000], Step: [2000/187] , Loss: 1.1050, Dev: 0.8914\n",
            "Epoch: [9/1000], Step: [3000/187] , Loss: 1.1702, Dev: 0.9094\n",
            "Epoch: [9/1000], Step: [4000/187] , Loss: 1.4571, Dev: 0.9163\n",
            "Epoch: [9/1000], Step: [5000/187] , Loss: 1.1014, Dev: 0.9173\n",
            "0.5608288770053476 3\n",
            "Epoch: [10/1000], Step: [1000/187] , Loss: 1.2935, Dev: 0.9139\n",
            "Epoch: [10/1000], Step: [2000/187] , Loss: 1.1150, Dev: 0.9148\n",
            "Epoch: [10/1000], Step: [3000/187] , Loss: 1.1578, Dev: 0.9301\n",
            "Epoch: [10/1000], Step: [4000/187] , Loss: 1.4018, Dev: 0.9303\n",
            "Epoch: [10/1000], Step: [5000/187] , Loss: 1.1001, Dev: 0.9342\n",
            "0.5608288770053476 3\n",
            "Epoch: [11/1000], Step: [1000/187] , Loss: 1.2808, Dev: 0.9332\n",
            "Epoch: [11/1000], Step: [2000/187] , Loss: 1.1080, Dev: 0.9286\n",
            "Epoch: [11/1000], Step: [3000/187] , Loss: 1.1493, Dev: 0.9427\n",
            "Epoch: [11/1000], Step: [4000/187] , Loss: 1.4020, Dev: 0.9452\n",
            "Epoch: [11/1000], Step: [5000/187] , Loss: 1.0943, Dev: 0.9457\n",
            "0.5608288770053476 3\n",
            "Epoch: [12/1000], Step: [1000/187] , Loss: 1.2440, Dev: 0.9457\n",
            "Epoch: [12/1000], Step: [2000/187] , Loss: 1.1223, Dev: 0.9388\n",
            "Epoch: [12/1000], Step: [3000/187] , Loss: 1.1461, Dev: 0.9535\n",
            "Epoch: [12/1000], Step: [4000/187] , Loss: 1.3775, Dev: 0.9557\n",
            "Epoch: [12/1000], Step: [5000/187] , Loss: 1.0971, Dev: 0.9555\n"
          ],
          "name": "stdout"
        }
      ]
    },
    {
      "metadata": {
        "id": "4yCQA8hCJfTC",
        "colab_type": "code",
        "colab": {
          "base_uri": "https://localhost:8080/",
          "height": 347
        },
        "outputId": "bc68f282-7d41-4e40-a82c-876cd14ac87a"
      },
      "cell_type": "code",
      "source": [
        "a=(list(model.parameters()))[1].data\n",
        "b=np.array(a)\n",
        "corr=np.corrcoef(b)\n",
        "ax=sns.heatmap(corr)"
      ],
      "execution_count": 127,
      "outputs": [
        {
          "output_type": "display_data",
          "data": {
            "image/png": "[encoded data removed]",
            "text/plain": [
              "<Figure size 576x396 with 2 Axes>"
            ]
          },
          "metadata": {
            "tags": []
          }
        }
      ]
    },
    {
      "metadata": {
        "id": "X77wy58FJh32",
        "colab_type": "code",
        "colab": {
          "base_uri": "https://localhost:8080/",
          "height": 170
        },
        "outputId": "f3dda94f-cfe9-4bce-9088-c8b8d696b689"
      },
      "cell_type": "code",
      "source": [
        "metrics(sentence_test,label_test,model)"
      ],
      "execution_count": 156,
      "outputs": [
        {
          "output_type": "stream",
          "text": [
            "F1:[0.59677419 0.66326531 0.4137931  0.60944206 0.50596659 0.43333333\n",
            " 0.50943396]\n",
            "recall_score:[0.7014218  0.58035714 0.39473684 0.6367713  0.5492228  0.3919598\n",
            " 0.49541284]\n",
            "precision_score:[0.51929825 0.77380952 0.43478261 0.58436214 0.46902655 0.48447205\n",
            " 0.52427184]\n",
            "F1_toal:0.5331440779878007\n",
            "rscore_total:0.5356975039025482\n",
            "pscore_total:0.5414318515798726\n"
          ],
          "name": "stdout"
        }
      ]
    },
    {
      "metadata": {
        "id": "gsCZ5IHJJcpY",
        "colab_type": "code",
        "colab": {}
      },
      "cell_type": "code",
      "source": [
        "def Demo():\n",
        "  sentence=input(\"Please type here:\")\n",
        "  sentence=create_feature(sentence)\n",
        "  b=[]\n",
        "  for i in sentence:\n",
        "    try:\n",
        "      b.append(vocab.index(i))\n",
        "    except ValueError:\n",
        "      b\n",
        "  b=torch.LongTensor(b)    \n",
        "  output=model(b)\n",
        "  predict=torch.argmax(output)\n",
        "  return emotions[predict]\n",
        "  \n",
        "  \n",
        "  \n",
        "  "
      ],
      "execution_count": 0,
      "outputs": []
    },
    {
      "metadata": {
        "id": "tOgwUE7z_Uw9",
        "colab_type": "code",
        "outputId": "2316b4a8-d9f9-4963-a70e-578273a7bede",
        "colab": {
          "base_uri": "https://localhost:8080/",
          "height": 51
        }
      },
      "cell_type": "code",
      "source": [
        "Demo()"
      ],
      "execution_count": 97,
      "outputs": [
        {
          "output_type": "stream",
          "text": [
            "Please type here:I said something bad behind my classmate's back which is totally wrong\n"
          ],
          "name": "stdout"
        },
        {
          "output_type": "execute_result",
          "data": {
            "text/plain": [
              "'😳'"
            ]
          },
          "metadata": {
            "tags": []
          },
          "execution_count": 97
        }
      ]
    },
    {
      "metadata": {
        "id": "SEPKzi3h4W_5",
        "colab_type": "code",
        "colab": {
          "base_uri": "https://localhost:8080/",
          "height": 71
        },
        "outputId": "61967af3-6d5c-45fe-e469-162c16f51dc8"
      },
      "cell_type": "code",
      "source": [
        "checkpoint = {'model': CNNClassifier(weights,weights_emoji,len(vocab),300,200,300,2),\n",
        "          'state_dict': model.state_dict(),\n",
        "          'optimizer' : optimizer.state_dict()}\n",
        "\n",
        "torch.save(checkpoint, 'checkpoint.pth')"
      ],
      "execution_count": 164,
      "outputs": [
        {
          "output_type": "stream",
          "text": [
            "/usr/local/lib/python3.6/dist-packages/torch/serialization.py:251: UserWarning: Couldn't retrieve source code for container of type CNNClassifier. It won't be checked for correctness upon loading.\n",
            "  \"type \" + obj.__name__ + \". It won't be checked \"\n"
          ],
          "name": "stderr"
        }
      ]
    },
    {
      "metadata": {
        "id": "KS8lET1g6hAr",
        "colab_type": "code",
        "colab": {}
      },
      "cell_type": "code",
      "source": [
        "def load_checkpoint(filepath):\n",
        "    checkpoint = torch.load(filepath)\n",
        "    model = checkpoint['model']\n",
        "    model.load_state_dict(checkpoint['state_dict'])\n",
        "    for parameter in model.parameters():\n",
        "        parameter.requires_grad = False\n",
        "\n",
        "    model.eval()\n",
        "    return model\n",
        "\n",
        "model1 = load_checkpoint('checkpoint.pth')\n"
      ],
      "execution_count": 0,
      "outputs": []
    },
    {
      "metadata": {
        "id": "tXNzy5iXWlgG",
        "colab_type": "code",
        "colab": {}
      },
      "cell_type": "code",
      "source": [
        "torch.save(vocab,\"vocab.pth\")"
      ],
      "execution_count": 0,
      "outputs": []
    }
  ]
}