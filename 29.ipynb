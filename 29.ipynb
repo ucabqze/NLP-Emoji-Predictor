{
  "nbformat": 4,
  "nbformat_minor": 0,
  "metadata": {
    "colab": {
      "name": "29.ipynb",
      "version": "0.3.2",
      "provenance": []
    },
    "kernelspec": {
      "name": "python3",
      "display_name": "Python 3"
    }
  },
  "cells": [
    {
      "metadata": {
        "id": "2BdUzgmp9ePV",
        "colab_type": "code",
        "colab": {}
      },
      "cell_type": "code",
      "source": [
        "import torch\n",
        "import torch.nn as nn\n",
        "import torch.nn.functional as F\n",
        "import re"
      ],
      "execution_count": 0,
      "outputs": []
    },
    {
      "metadata": {
        "id": "btjGIwHk9dxG",
        "colab_type": "code",
        "colab": {
          "base_uri": "https://localhost:8080/",
          "height": 34
        },
        "outputId": "84374de8-674b-41f3-841b-5b86323a8c6a"
      },
      "cell_type": "code",
      "source": [
        "!mkdir ckpf\n",
        "check_URL=r'https://s3.eu-west-2.amazonaws.com/suqilu/checkpoint.pth'\n",
        "vocab_URL=r'https://s3.eu-west-2.amazonaws.com/suqilu/vocab.pth'\n",
        "!wget $check_URL -o ckpf/checkpoint.pth\n",
        "!wget $vocab_URL -o ckpf/vocab.pth\n"
      ],
      "execution_count": 64,
      "outputs": [
        {
          "output_type": "stream",
          "text": [
            "mkdir: cannot create directory ‘ckpf’: File exists\n"
          ],
          "name": "stdout"
        }
      ]
    },
    {
      "metadata": {
        "id": "eDY5nkOZSVud",
        "colab_type": "code",
        "colab": {}
      },
      "cell_type": "code",
      "source": [
        "class CNNClassifier(nn.Module):\n",
        "  def __init__(self,weight_matrix_of_word,weight_matrix_of_emoji,num_embeddings, embedding_dim, hidden_dim,target_size,kernel_size):\n",
        "      super(CNNClassifier, self).__init__()\n",
        "      self.kernel_size=kernel_size\n",
        "      self.embedding_word=nn.Embedding.from_pretrained(weight_matrix_of_word)\n",
        "      self.embedding_emoji=nn.Embedding.from_pretrained(weight_matrix_of_emoji,freeze=False)\n",
        "      self.conv1=nn.Conv1d(embedding_dim,hidden_dim,kernel_size)\n",
        "      self.conv2=nn.Conv1d(embedding_dim,hidden_dim,1)\n",
        "      self.output=nn.Linear(hidden_dim,target_size)\n",
        "      self.cos=nn.CosineSimilarity(dim=0)\n",
        "    \n",
        "  def forward(self,sentence):\n",
        "    x=self.embedding_word(sentence).view(1,len(sentence),-1).transpose(1,2)\n",
        "    emoji=self.embedding_emoji.weight\n",
        "    if(len(sentence)>=self.kernel_size):\n",
        "      c=self.conv1(x)\n",
        "      pool1=nn.MaxPool1d(len(sentence)-self.kernel_size+1)\n",
        "    else:\n",
        "      c=self.conv2(x)\n",
        "      pool1=nn.MaxPool1d(len(sentence))\n",
        "    c=F.relu(c)  \n",
        "    p=pool1(c).view(1,-1)\n",
        "    out=self.output(p)\n",
        "    a=torch.zeros(1,len(emoji))\n",
        "    for i,j in enumerate(emoji):\n",
        "      for p,q in enumerate(out):\n",
        "        a[p][i]=self.cos(q,j)\n",
        "    return a"
      ],
      "execution_count": 0,
      "outputs": []
    },
    {
      "metadata": {
        "id": "sGzxVwAxPGXV",
        "colab_type": "code",
        "colab": {}
      },
      "cell_type": "code",
      "source": [
        "def load_checkpoint(filepath):\n",
        "    checkpoint = torch.load(filepath)\n",
        "    model = checkpoint['model']\n",
        "    model.load_state_dict(checkpoint['state_dict'])\n",
        "    for parameter in model.parameters():\n",
        "        parameter.requires_grad = False\n",
        "\n",
        "    model.eval()\n",
        "    return model\n",
        "\n",
        "model = load_checkpoint('checkpoint.pth')"
      ],
      "execution_count": 0,
      "outputs": []
    },
    {
      "metadata": {
        "id": "EZJE5PCwT_8Y",
        "colab_type": "code",
        "colab": {}
      },
      "cell_type": "code",
      "source": [
        "emotions = [\"😊\", '😱', \"😠\", \"😢\", \"😒\", \"😳\", \"😣\"]"
      ],
      "execution_count": 0,
      "outputs": []
    },
    {
      "metadata": {
        "id": "X08VY_kYYAzF",
        "colab_type": "code",
        "colab": {}
      },
      "cell_type": "code",
      "source": [
        "vocab=torch.load(\"vocab.pth\")"
      ],
      "execution_count": 0,
      "outputs": []
    },
    {
      "metadata": {
        "id": "yfmGaHE8ZPMh",
        "colab_type": "code",
        "colab": {}
      },
      "cell_type": "code",
      "source": [
        "def ngram(token,n):\n",
        "  output=[]\n",
        "  for i in range(n-1,len(token)):\n",
        "    ngram=' '.join(token[i-n+1:i+1])\n",
        "    output.append(ngram)\n",
        "  return output  "
      ],
      "execution_count": 0,
      "outputs": []
    },
    {
      "metadata": {
        "id": "YMLCtm3iY7TO",
        "colab_type": "code",
        "colab": {}
      },
      "cell_type": "code",
      "source": [
        "def create_feature(text,nrange=(1,1)):\n",
        "  text_features=[]\n",
        "  text=text.lower()\n",
        "  text_alphanum=re.sub('[^a-z0-9#]',' ',text)\n",
        "  for n in range(nrange[0],nrange[1]+1):\n",
        "    text_features += ngram(text_alphanum.split(),n)\n",
        "  return(text_features)  "
      ],
      "execution_count": 0,
      "outputs": []
    },
    {
      "metadata": {
        "id": "hM_5gAfzSeul",
        "colab_type": "code",
        "colab": {}
      },
      "cell_type": "code",
      "source": [
        "def Demo():\n",
        "  sentence=input(\"Please type here:\")\n",
        "  sentence=create_feature(sentence)\n",
        "  b=[]\n",
        "  for i in sentence:\n",
        "    try:\n",
        "      b.append(vocab.index(i))\n",
        "    except ValueError:\n",
        "      b\n",
        "  b=torch.LongTensor(b)    \n",
        "  output=model(b)\n",
        "  predict=torch.argmax(output)\n",
        "  return emotions[predict]"
      ],
      "execution_count": 0,
      "outputs": []
    },
    {
      "metadata": {
        "id": "MrrvfqgXY9AX",
        "colab_type": "code",
        "colab": {}
      },
      "cell_type": "code",
      "source": [
        "Demo()"
      ],
      "execution_count": 0,
      "outputs": []
    }
  ]
}